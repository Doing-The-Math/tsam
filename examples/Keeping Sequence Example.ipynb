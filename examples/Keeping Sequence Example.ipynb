{
 "cells": [
  {
   "cell_type": "markdown",
   "metadata": {},
   "source": [
    "# Import Packages Needed"
   ]
  },
  {
   "cell_type": "code",
   "execution_count": 1,
   "metadata": {},
   "outputs": [],
   "source": [
    "%load_ext autoreload\n",
    "%autoreload 2\n",
    "import copy\n",
    "import os\n",
    "import pandas as pd\n",
    "import matplotlib.pyplot as plt\n",
    "import tsam.timeseriesaggregation as tsam\n",
    "import numpy as np\n",
    "%matplotlib inline"
   ]
  },
  {
   "cell_type": "markdown",
   "metadata": {},
   "source": [
    "# Import E-Demand for 2 Regions and 4 Regions Respectively"
   ]
  },
  {
   "cell_type": "code",
   "execution_count": 2,
   "metadata": {},
   "outputs": [],
   "source": [
    "edem2=pd.read_excel('differently aggregated regions/2 regions/electricityDemand.xlsx', index_col = 0)"
   ]
  },
  {
   "cell_type": "code",
   "execution_count": 3,
   "metadata": {},
   "outputs": [],
   "source": [
    "edem4=pd.read_excel('differently aggregated regions/4 regions/electricityDemand.xlsx', index_col = 0)"
   ]
  },
  {
   "cell_type": "markdown",
   "metadata": {},
   "source": [
    "### Reset Index to Daytime for TSAM"
   ]
  },
  {
   "cell_type": "code",
   "execution_count": 4,
   "metadata": {},
   "outputs": [],
   "source": [
    "edem2.index = pd.date_range('2050-01-01 00:30:00', periods=edem2.shape[0],\n",
    "                                             freq='1H', tz='Europe/Berlin')"
   ]
  },
  {
   "cell_type": "code",
   "execution_count": 5,
   "metadata": {},
   "outputs": [],
   "source": [
    "edem4.index = pd.date_range('2050-01-01 00:30:00', periods=edem4.shape[0],\n",
    "                                             freq='1H', tz='Europe/Berlin')"
   ]
  },
  {
   "cell_type": "markdown",
   "metadata": {},
   "source": [
    "# Cluster to Emphasize that Different Spatial Aggregation Leads to Different Sequence"
   ]
  },
  {
   "cell_type": "code",
   "execution_count": 6,
   "metadata": {},
   "outputs": [],
   "source": [
    "aggregationEdem2 = tsam.TimeSeriesAggregation(edem2, noTypicalPeriods = 12, hoursPerPeriod = 24, \n",
    "                                        clusterMethod = 'hierarchical')"
   ]
  },
  {
   "cell_type": "code",
   "execution_count": 7,
   "metadata": {},
   "outputs": [],
   "source": [
    "aggregationEdem4 = tsam.TimeSeriesAggregation(edem4, noTypicalPeriods = 12, hoursPerPeriod = 24, \n",
    "                                        clusterMethod = 'hierarchical')"
   ]
  },
  {
   "cell_type": "code",
   "execution_count": 8,
   "metadata": {},
   "outputs": [],
   "source": [
    "typPeriodsEdem2 = aggregationEdem2.createTypicalPeriods()\n",
    "typPeriodsEdem4 = aggregationEdem4.createTypicalPeriods()"
   ]
  },
  {
   "cell_type": "code",
   "execution_count": 9,
   "metadata": {},
   "outputs": [],
   "source": [
    "predictedPeriodsEdem2 = aggregationEdem2.predictOriginalData()\n",
    "predictedPeriodsEdem4 = aggregationEdem4.predictOriginalData()"
   ]
  },
  {
   "cell_type": "code",
   "execution_count": 10,
   "metadata": {},
   "outputs": [
    {
     "data": {
      "text/plain": [
       "array([10,  2,  2,  2,  5,  6,  9,  0,  0,  0,  0,  1,  5,  0,  4,  4,  4,\n",
       "        4,  1,  5,  0,  4,  4,  4,  4,  1,  5,  0,  0,  0,  0,  0,  1,  5,\n",
       "        9,  0,  4,  4,  0,  1,  5,  0,  4,  4,  4,  4,  1,  5,  0,  0,  0,\n",
       "        4,  0,  1,  5,  0,  4,  4,  0,  0,  1,  6,  0,  0,  0,  0,  0,  1,\n",
       "        6,  0,  4,  0,  0,  0,  1,  6,  9,  0,  0,  0,  0,  1,  5,  0,  0,\n",
       "        0,  0,  5,  5,  6,  6,  3,  0,  0,  0,  1,  5,  9,  0,  0,  0,  3,\n",
       "        8,  6, 11,  9,  9,  3,  3,  8,  6, 11,  3,  9,  9,  3,  8,  6, 11,\n",
       "        3,  6, 11,  3,  8,  6, 11,  9,  3,  6,  2,  8,  6, 11,  3,  3,  3,\n",
       "        3,  8, 10, 10, 11,  3,  3,  3,  8,  6, 11,  3,  3,  8,  2,  8, 10,\n",
       "       11,  3,  3,  3,  3,  8, 10, 11,  3,  3,  3,  2,  8, 10, 11,  3,  3,\n",
       "        3,  3,  8, 10, 11,  3,  2,  3,  3,  8, 10, 11,  3,  3,  3,  3,  8,\n",
       "       10, 11,  3,  3,  3,  3,  8, 10, 11,  3,  3,  3,  3,  8, 10, 11,  3,\n",
       "        3,  3,  3,  8,  6, 11,  2,  2,  3,  3,  8,  6, 11,  3,  3,  3,  3,\n",
       "        8,  6, 11,  3,  3,  2,  2,  8,  6, 11,  3,  3,  3,  3,  8,  6, 11,\n",
       "        3,  3,  3,  3,  8,  6,  9,  9,  9,  9,  9,  8,  6,  9,  9,  9,  9,\n",
       "        3,  8,  6,  9,  0,  0,  0,  9,  8,  6,  9,  9,  9,  9,  3,  8,  6,\n",
       "        9,  7,  7,  5,  2,  5,  6,  7,  7,  7,  7,  7,  1,  6,  7,  7,  7,\n",
       "        7,  7,  1,  6,  7,  7,  7,  7,  7,  1,  5,  7,  7,  7,  7,  1,  2,\n",
       "        5,  0,  4,  4,  4,  0,  1,  5,  0,  4,  4,  4,  0,  1,  5,  0,  4,\n",
       "        4,  4,  4,  1,  5,  0,  4,  4,  4,  4,  1,  5,  0,  4,  4,  4,  4,\n",
       "        1,  1,  4,  4,  4,  4,  4,  1,  1,  4,  4,  4,  4,  0,  1,  5,  2,\n",
       "        8,  6,  6,  2,  5,  6,  5,  5], dtype=int64)"
      ]
     },
     "execution_count": 10,
     "metadata": {},
     "output_type": "execute_result"
    }
   ],
   "source": [
    "aggregationEdem2.clusterOrder"
   ]
  },
  {
   "cell_type": "code",
   "execution_count": 11,
   "metadata": {},
   "outputs": [
    {
     "data": {
      "text/plain": [
       "array([ 7,  3,  3,  3,  3,  3,  9,  9,  9, 10, 10,  3,  3,  9,  9, 10, 10,\n",
       "       10,  3,  3,  9,  9,  9,  9,  9,  4,  4,  9,  9,  9,  9,  9,  4,  3,\n",
       "       10,  5, 10, 10, 10,  3,  3, 10, 10, 10,  2,  2,  4,  3,  1,  1,  1,\n",
       "        2,  1,  3,  3,  1,  2,  2,  1,  1,  4,  7,  0,  0,  5,  1,  1,  4,\n",
       "        7,  1,  2,  1,  1,  1,  4,  7,  1,  1,  1,  1,  1,  4,  4,  1,  1,\n",
       "        1,  1,  3,  6,  7,  7,  0,  1,  1,  1,  4,  7,  0,  1,  1,  1,  0,\n",
       "        6, 11,  8,  0,  0,  0,  0,  6, 11,  0,  0,  8,  0,  0,  6, 11,  0,\n",
       "        0, 11,  0,  8,  6, 11,  8,  0,  0, 11,  0,  6, 11,  0,  0,  8,  8,\n",
       "        8,  6, 11, 11,  0,  0,  8,  8,  6,  7,  0,  5,  8,  6,  0,  6,  7,\n",
       "        0,  0,  0,  0,  0,  6,  7,  0,  0,  0,  0,  0,  6,  7,  0,  0,  0,\n",
       "        0,  0,  6,  7,  0,  0,  0,  0,  0,  6,  7,  0,  0,  0,  0,  0,  6,\n",
       "       11,  8,  8,  0,  0,  0, 11, 11,  8,  8,  8,  8,  8, 11, 11,  8,  8,\n",
       "        8,  0,  0,  6,  7,  0,  0,  0,  0,  0,  6,  7,  0,  0,  0,  0,  0,\n",
       "        6,  7,  0,  0,  0,  0,  0,  6,  7,  0,  0,  0,  0,  0,  6,  7,  0,\n",
       "        0,  0,  0,  0,  6,  7,  0,  0,  0,  0,  0,  6,  7,  0,  0,  0,  0,\n",
       "        0,  6,  7,  0,  0,  0,  0,  0,  6,  7,  0,  0,  0,  0,  0,  6, 11,\n",
       "        8,  8,  8,  6,  0,  6,  7,  1,  1,  1,  1,  1,  4,  7,  1,  1,  1,\n",
       "        1,  1,  4,  7,  1,  1,  1,  1,  1,  4,  7,  1,  1,  1,  8,  4,  4,\n",
       "        4,  2,  2,  2,  2,  2,  4,  4,  2,  2,  2,  2,  2,  4,  4,  2,  2,\n",
       "        2,  2,  2,  4,  4,  2,  2,  2,  2,  2,  5,  4,  2,  2,  2,  2,  2,\n",
       "        4,  4,  9,  2,  2,  2,  2,  4,  4,  2,  2,  2,  2,  1,  4,  4,  4,\n",
       "        6, 11,  7,  4,  4,  7,  4,  4], dtype=int64)"
      ]
     },
     "execution_count": 11,
     "metadata": {},
     "output_type": "execute_result"
    }
   ],
   "source": [
    "aggregationEdem4.clusterOrder"
   ]
  },
  {
   "cell_type": "markdown",
   "metadata": {},
   "source": [
    "### Means Remain"
   ]
  },
  {
   "cell_type": "markdown",
   "metadata": {},
   "source": [
    "For 2 regions:"
   ]
  },
  {
   "cell_type": "code",
   "execution_count": 12,
   "metadata": {},
   "outputs": [
    {
     "data": {
      "text/plain": [
       "cluster_0    26.980326\n",
       "cluster_1    33.282231\n",
       "dtype: float64"
      ]
     },
     "execution_count": 12,
     "metadata": {},
     "output_type": "execute_result"
    }
   ],
   "source": [
    "edem2.mean(axis=0)"
   ]
  },
  {
   "cell_type": "code",
   "execution_count": 13,
   "metadata": {},
   "outputs": [
    {
     "data": {
      "text/plain": [
       "cluster_0    26.980326\n",
       "cluster_1    33.282231\n",
       "dtype: float64"
      ]
     },
     "execution_count": 13,
     "metadata": {},
     "output_type": "execute_result"
    }
   ],
   "source": [
    "predictedPeriodsEdem2.mean(axis=0)"
   ]
  },
  {
   "cell_type": "markdown",
   "metadata": {},
   "source": [
    "For 4 regions:"
   ]
  },
  {
   "cell_type": "code",
   "execution_count": 14,
   "metadata": {},
   "outputs": [
    {
     "data": {
      "text/plain": [
       "cluster_0    24.108759\n",
       "cluster_1    10.753967\n",
       "cluster_2     9.344134\n",
       "cluster_3    16.055696\n",
       "dtype: float64"
      ]
     },
     "execution_count": 14,
     "metadata": {},
     "output_type": "execute_result"
    }
   ],
   "source": [
    "edem4.mean(axis=0)"
   ]
  },
  {
   "cell_type": "code",
   "execution_count": 15,
   "metadata": {},
   "outputs": [
    {
     "data": {
      "text/plain": [
       "cluster_0    24.108759\n",
       "cluster_1    10.753967\n",
       "cluster_2     9.344134\n",
       "cluster_3    16.055696\n",
       "dtype: float64"
      ]
     },
     "execution_count": 15,
     "metadata": {},
     "output_type": "execute_result"
    }
   ],
   "source": [
    "predictedPeriodsEdem4.mean(axis=0)"
   ]
  },
  {
   "cell_type": "markdown",
   "metadata": {},
   "source": [
    "# Now Aggregating with Kept Sequence from E-Demand from 4 Regions for 2 Regions"
   ]
  },
  {
   "cell_type": "code",
   "execution_count": 16,
   "metadata": {},
   "outputs": [
    {
     "data": {
      "text/plain": [
       "[77, 46, 211, 182, 350, 320, 117, 288, 221, 254, 194, 121]"
      ]
     },
     "execution_count": 16,
     "metadata": {},
     "output_type": "execute_result"
    }
   ],
   "source": [
    "aggregationEdem2.clusterCenterIndices"
   ]
  },
  {
   "cell_type": "code",
   "execution_count": 17,
   "metadata": {},
   "outputs": [
    {
     "data": {
      "text/plain": [
       "[184, 79, 322, 19, 348, 64, 158, 250, 198, 20, 37, 110]"
      ]
     },
     "execution_count": 17,
     "metadata": {},
     "output_type": "execute_result"
    }
   ],
   "source": [
    "aggregationEdem4.clusterCenterIndices"
   ]
  },
  {
   "cell_type": "markdown",
   "metadata": {},
   "source": [
    "### Cluster Again with Given Sequences"
   ]
  },
  {
   "cell_type": "code",
   "execution_count": 18,
   "metadata": {},
   "outputs": [],
   "source": [
    "aggregationEdem2Predef = tsam.TimeSeriesAggregation(edem2, noTypicalPeriods = 12, hoursPerPeriod = 24, \n",
    "                                        clusterMethod = 'hierarchical', \n",
    "                                        predefClusterOrder=aggregationEdem2.clusterOrder,\n",
    "                                        predefClusterCenterIndices=aggregationEdem2.clusterCenterIndices)"
   ]
  },
  {
   "cell_type": "code",
   "execution_count": 19,
   "metadata": {},
   "outputs": [],
   "source": [
    "aggregationEdem4Predef = tsam.TimeSeriesAggregation(edem4, noTypicalPeriods = 12, hoursPerPeriod = 24, \n",
    "                                        clusterMethod = 'hierarchical', \n",
    "                                        predefClusterOrder=aggregationEdem4.clusterOrder,\n",
    "                                        predefClusterCenterIndices=aggregationEdem4.clusterCenterIndices)"
   ]
  },
  {
   "cell_type": "code",
   "execution_count": 20,
   "metadata": {},
   "outputs": [],
   "source": [
    "typPeriodsEdem2Predef = aggregationEdem2Predef.createTypicalPeriods()\n",
    "typPeriodsEdem4Predef = aggregationEdem4Predef.createTypicalPeriods()"
   ]
  },
  {
   "cell_type": "code",
   "execution_count": 21,
   "metadata": {},
   "outputs": [],
   "source": [
    "predictedPeriodsEdem2Predef = aggregationEdem2Predef.predictOriginalData()\n",
    "predictedPeriodsEdem4Predef = aggregationEdem4Predef.predictOriginalData()"
   ]
  },
  {
   "cell_type": "markdown",
   "metadata": {},
   "source": [
    "### Show that Nothing Changes, if Cluster Order and Cluster Center Indeces are Predefined and Process is Repeated"
   ]
  },
  {
   "cell_type": "code",
   "execution_count": 22,
   "metadata": {},
   "outputs": [
    {
     "data": {
      "text/plain": [
       "array([0, 0, 0, 0, 0, 0, 0, 0, 0, 0, 0, 0, 0, 0, 0, 0, 0, 0, 0, 0, 0, 0,\n",
       "       0, 0, 0, 0, 0, 0, 0, 0, 0, 0, 0, 0, 0, 0, 0, 0, 0, 0, 0, 0, 0, 0,\n",
       "       0, 0, 0, 0, 0, 0, 0, 0, 0, 0, 0, 0, 0, 0, 0, 0, 0, 0, 0, 0, 0, 0,\n",
       "       0, 0, 0, 0, 0, 0, 0, 0, 0, 0, 0, 0, 0, 0, 0, 0, 0, 0, 0, 0, 0, 0,\n",
       "       0, 0, 0, 0, 0, 0, 0, 0, 0, 0, 0, 0, 0, 0, 0, 0, 0, 0, 0, 0, 0, 0,\n",
       "       0, 0, 0, 0, 0, 0, 0, 0, 0, 0, 0, 0, 0, 0, 0, 0, 0, 0, 0, 0, 0, 0,\n",
       "       0, 0, 0, 0, 0, 0, 0, 0, 0, 0, 0, 0, 0, 0, 0, 0, 0, 0, 0, 0, 0, 0,\n",
       "       0, 0, 0, 0, 0, 0, 0, 0, 0, 0, 0, 0, 0, 0, 0, 0, 0, 0, 0, 0, 0, 0,\n",
       "       0, 0, 0, 0, 0, 0, 0, 0, 0, 0, 0, 0, 0, 0, 0, 0, 0, 0, 0, 0, 0, 0,\n",
       "       0, 0, 0, 0, 0, 0, 0, 0, 0, 0, 0, 0, 0, 0, 0, 0, 0, 0, 0, 0, 0, 0,\n",
       "       0, 0, 0, 0, 0, 0, 0, 0, 0, 0, 0, 0, 0, 0, 0, 0, 0, 0, 0, 0, 0, 0,\n",
       "       0, 0, 0, 0, 0, 0, 0, 0, 0, 0, 0, 0, 0, 0, 0, 0, 0, 0, 0, 0, 0, 0,\n",
       "       0, 0, 0, 0, 0, 0, 0, 0, 0, 0, 0, 0, 0, 0, 0, 0, 0, 0, 0, 0, 0, 0,\n",
       "       0, 0, 0, 0, 0, 0, 0, 0, 0, 0, 0, 0, 0, 0, 0, 0, 0, 0, 0, 0, 0, 0,\n",
       "       0, 0, 0, 0, 0, 0, 0, 0, 0, 0, 0, 0, 0, 0, 0, 0, 0, 0, 0, 0, 0, 0,\n",
       "       0, 0, 0, 0, 0, 0, 0, 0, 0, 0, 0, 0, 0, 0, 0, 0, 0, 0, 0, 0, 0, 0,\n",
       "       0, 0, 0, 0, 0, 0, 0, 0, 0, 0, 0, 0, 0], dtype=int64)"
      ]
     },
     "execution_count": 22,
     "metadata": {},
     "output_type": "execute_result"
    }
   ],
   "source": [
    "aggregationEdem2.clusterOrder-aggregationEdem2Predef.clusterOrder"
   ]
  },
  {
   "cell_type": "code",
   "execution_count": 23,
   "metadata": {},
   "outputs": [
    {
     "data": {
      "text/plain": [
       "array([0, 0, 0, 0, 0, 0, 0, 0, 0, 0, 0, 0, 0, 0, 0, 0, 0, 0, 0, 0, 0, 0,\n",
       "       0, 0, 0, 0, 0, 0, 0, 0, 0, 0, 0, 0, 0, 0, 0, 0, 0, 0, 0, 0, 0, 0,\n",
       "       0, 0, 0, 0, 0, 0, 0, 0, 0, 0, 0, 0, 0, 0, 0, 0, 0, 0, 0, 0, 0, 0,\n",
       "       0, 0, 0, 0, 0, 0, 0, 0, 0, 0, 0, 0, 0, 0, 0, 0, 0, 0, 0, 0, 0, 0,\n",
       "       0, 0, 0, 0, 0, 0, 0, 0, 0, 0, 0, 0, 0, 0, 0, 0, 0, 0, 0, 0, 0, 0,\n",
       "       0, 0, 0, 0, 0, 0, 0, 0, 0, 0, 0, 0, 0, 0, 0, 0, 0, 0, 0, 0, 0, 0,\n",
       "       0, 0, 0, 0, 0, 0, 0, 0, 0, 0, 0, 0, 0, 0, 0, 0, 0, 0, 0, 0, 0, 0,\n",
       "       0, 0, 0, 0, 0, 0, 0, 0, 0, 0, 0, 0, 0, 0, 0, 0, 0, 0, 0, 0, 0, 0,\n",
       "       0, 0, 0, 0, 0, 0, 0, 0, 0, 0, 0, 0, 0, 0, 0, 0, 0, 0, 0, 0, 0, 0,\n",
       "       0, 0, 0, 0, 0, 0, 0, 0, 0, 0, 0, 0, 0, 0, 0, 0, 0, 0, 0, 0, 0, 0,\n",
       "       0, 0, 0, 0, 0, 0, 0, 0, 0, 0, 0, 0, 0, 0, 0, 0, 0, 0, 0, 0, 0, 0,\n",
       "       0, 0, 0, 0, 0, 0, 0, 0, 0, 0, 0, 0, 0, 0, 0, 0, 0, 0, 0, 0, 0, 0,\n",
       "       0, 0, 0, 0, 0, 0, 0, 0, 0, 0, 0, 0, 0, 0, 0, 0, 0, 0, 0, 0, 0, 0,\n",
       "       0, 0, 0, 0, 0, 0, 0, 0, 0, 0, 0, 0, 0, 0, 0, 0, 0, 0, 0, 0, 0, 0,\n",
       "       0, 0, 0, 0, 0, 0, 0, 0, 0, 0, 0, 0, 0, 0, 0, 0, 0, 0, 0, 0, 0, 0,\n",
       "       0, 0, 0, 0, 0, 0, 0, 0, 0, 0, 0, 0, 0, 0, 0, 0, 0, 0, 0, 0, 0, 0,\n",
       "       0, 0, 0, 0, 0, 0, 0, 0, 0, 0, 0, 0, 0], dtype=int64)"
      ]
     },
     "execution_count": 23,
     "metadata": {},
     "output_type": "execute_result"
    }
   ],
   "source": [
    "aggregationEdem4.clusterOrder-aggregationEdem4Predef.clusterOrder"
   ]
  },
  {
   "cell_type": "code",
   "execution_count": 24,
   "metadata": {},
   "outputs": [
    {
     "data": {
      "text/plain": [
       "cluster_0    26.980326\n",
       "cluster_1    33.282231\n",
       "dtype: float64"
      ]
     },
     "execution_count": 24,
     "metadata": {},
     "output_type": "execute_result"
    }
   ],
   "source": [
    "edem2.mean(axis=0)"
   ]
  },
  {
   "cell_type": "code",
   "execution_count": 25,
   "metadata": {},
   "outputs": [
    {
     "data": {
      "text/plain": [
       "cluster_0    26.980326\n",
       "cluster_1    33.282231\n",
       "dtype: float64"
      ]
     },
     "execution_count": 25,
     "metadata": {},
     "output_type": "execute_result"
    }
   ],
   "source": [
    "predictedPeriodsEdem2Predef.mean(axis=0)"
   ]
  },
  {
   "cell_type": "code",
   "execution_count": 26,
   "metadata": {},
   "outputs": [
    {
     "data": {
      "text/plain": [
       "cluster_0    24.108759\n",
       "cluster_1    10.753967\n",
       "cluster_2     9.344134\n",
       "cluster_3    16.055696\n",
       "dtype: float64"
      ]
     },
     "execution_count": 26,
     "metadata": {},
     "output_type": "execute_result"
    }
   ],
   "source": [
    "edem4.mean(axis=0)"
   ]
  },
  {
   "cell_type": "code",
   "execution_count": 27,
   "metadata": {},
   "outputs": [
    {
     "data": {
      "text/plain": [
       "cluster_0    24.108759\n",
       "cluster_1    10.753967\n",
       "cluster_2     9.344134\n",
       "cluster_3    16.055696\n",
       "dtype: float64"
      ]
     },
     "execution_count": 27,
     "metadata": {},
     "output_type": "execute_result"
    }
   ],
   "source": [
    "predictedPeriodsEdem4Predef.mean(axis=0)"
   ]
  },
  {
   "cell_type": "markdown",
   "metadata": {},
   "source": [
    "### Show that Means Stay the Same, if 2 Regions are Clustered with the Cluster Order and Cluster Center Indeces from the Clustering of 4 Regions or with the Cluster Order of 4 Regions only"
   ]
  },
  {
   "cell_type": "code",
   "execution_count": 28,
   "metadata": {},
   "outputs": [],
   "source": [
    "aggregationEdem2PredefFromEdem4 = tsam.TimeSeriesAggregation(edem2, noTypicalPeriods = 12, hoursPerPeriod = 24, \n",
    "                                        clusterMethod = 'hierarchical', \n",
    "                                        predefClusterOrder=aggregationEdem4.clusterOrder,\n",
    "                                        predefClusterCenterIndices=aggregationEdem4.clusterCenterIndices)\n",
    "aggregationEdem2PredefFromEdem4OrderOnly = tsam.TimeSeriesAggregation(edem2, noTypicalPeriods = 12, hoursPerPeriod = 24, \n",
    "                                                 clusterMethod = 'hierarchical', \n",
    "                                                 predefClusterOrder=aggregationEdem4.clusterOrder)"
   ]
  },
  {
   "cell_type": "code",
   "execution_count": 29,
   "metadata": {},
   "outputs": [],
   "source": [
    "typPeriodsEdem2PredefFromEdem4 = aggregationEdem2PredefFromEdem4.createTypicalPeriods()\n",
    "typPeriodsEdem2PredefFromEdem4OrderOnly = aggregationEdem2PredefFromEdem4OrderOnly.createTypicalPeriods()"
   ]
  },
  {
   "cell_type": "code",
   "execution_count": 30,
   "metadata": {},
   "outputs": [],
   "source": [
    "predictedPeriodsEdem2PredefFromEdem4 = aggregationEdem2PredefFromEdem4.predictOriginalData()\n",
    "predictedPeriodsEdem2PredefFromEdem4OrderOnly = aggregationEdem2PredefFromEdem4OrderOnly.predictOriginalData()"
   ]
  },
  {
   "cell_type": "code",
   "execution_count": 31,
   "metadata": {},
   "outputs": [
    {
     "data": {
      "text/plain": [
       "cluster_0    26.980326\n",
       "cluster_1    33.282231\n",
       "dtype: float64"
      ]
     },
     "execution_count": 31,
     "metadata": {},
     "output_type": "execute_result"
    }
   ],
   "source": [
    "edem2.mean(axis=0)"
   ]
  },
  {
   "cell_type": "code",
   "execution_count": 32,
   "metadata": {},
   "outputs": [
    {
     "data": {
      "text/plain": [
       "cluster_0    26.980326\n",
       "cluster_1    33.282231\n",
       "dtype: float64"
      ]
     },
     "execution_count": 32,
     "metadata": {},
     "output_type": "execute_result"
    }
   ],
   "source": [
    "predictedPeriodsEdem2.mean(axis=0)"
   ]
  },
  {
   "cell_type": "code",
   "execution_count": 33,
   "metadata": {},
   "outputs": [
    {
     "data": {
      "text/plain": [
       "cluster_0    26.980326\n",
       "cluster_1    33.282231\n",
       "dtype: float64"
      ]
     },
     "execution_count": 33,
     "metadata": {},
     "output_type": "execute_result"
    }
   ],
   "source": [
    "predictedPeriodsEdem2Predef.mean(axis=0)"
   ]
  },
  {
   "cell_type": "code",
   "execution_count": 34,
   "metadata": {},
   "outputs": [
    {
     "data": {
      "text/plain": [
       "cluster_0    26.980326\n",
       "cluster_1    33.282231\n",
       "dtype: float64"
      ]
     },
     "execution_count": 34,
     "metadata": {},
     "output_type": "execute_result"
    }
   ],
   "source": [
    "predictedPeriodsEdem2PredefFromEdem4.mean(axis=0)"
   ]
  },
  {
   "cell_type": "code",
   "execution_count": 35,
   "metadata": {},
   "outputs": [
    {
     "data": {
      "text/plain": [
       "cluster_0    26.980326\n",
       "cluster_1    33.282231\n",
       "dtype: float64"
      ]
     },
     "execution_count": 35,
     "metadata": {},
     "output_type": "execute_result"
    }
   ],
   "source": [
    "predictedPeriodsEdem2PredefFromEdem4OrderOnly.mean(axis=0)"
   ]
  },
  {
   "cell_type": "markdown",
   "metadata": {},
   "source": [
    "However, the cluster order of the e-demand for two regions now differ from each other:"
   ]
  },
  {
   "cell_type": "code",
   "execution_count": 36,
   "metadata": {},
   "outputs": [
    {
     "data": {
      "text/plain": [
       "array([  3,  -1,  -1,  -1,   2,   3,   0,  -9,  -9, -10, -10,  -2,   2,\n",
       "        -9,  -5,  -6,  -6,  -6,  -2,   2,  -9,  -5,  -5,  -5,  -5,  -3,\n",
       "         1,  -9,  -9,  -9,  -9,  -9,  -3,   2,  -1,  -5,  -6,  -6, -10,\n",
       "        -2,   2, -10,  -6,  -6,   2,   2,  -3,   2,  -1,  -1,  -1,   2,\n",
       "        -1,  -2,   2,  -1,   2,   2,  -1,  -1,  -3,  -1,   0,   0,  -5,\n",
       "        -1,  -1,  -3,  -1,  -1,   2,  -1,  -1,  -1,  -3,  -1,   8,  -1,\n",
       "        -1,  -1,  -1,  -3,   1,  -1,  -1,  -1,  -1,   2,  -1,  -1,  -1,\n",
       "         3,  -1,  -1,  -1,  -3,  -2,   9,  -1,  -1,  -1,   3,   2,  -5,\n",
       "         3,   9,   9,   3,   3,   2,  -5,  11,   3,   1,   9,   3,   2,\n",
       "        -5,  11,   3,  -5,  11,  -5,   2,  -5,   3,   9,   3,  -5,   2,\n",
       "         2,  -5,  11,   3,  -5,  -5,  -5,   2,  -1,  -1,  11,   3,  -5,\n",
       "        -5,   2,  -1,  11,  -2,  -5,   2,   2,   2,   3,  11,   3,   3,\n",
       "         3,   3,   2,   3,  11,   3,   3,   3,   2,   2,   3,  11,   3,\n",
       "         3,   3,   3,   2,   3,  11,   3,   2,   3,   3,   2,   3,  11,\n",
       "         3,   3,   3,   3,   2,  -1,   3,  -5,   3,   3,   3,  -3,  -1,\n",
       "         3,  -5,  -5,  -5,  -5,  -3,  -1,   3,  -5,  -5,   3,   3,   2,\n",
       "        -1,  11,   2,   2,   3,   3,   2,  -1,  11,   3,   3,   3,   3,\n",
       "         2,  -1,  11,   3,   3,   2,   2,   2,  -1,  11,   3,   3,   3,\n",
       "         3,   2,  -1,  11,   3,   3,   3,   3,   2,  -1,   9,   9,   9,\n",
       "         9,   9,   2,  -1,   9,   9,   9,   9,   3,   2,  -1,   9,   0,\n",
       "         0,   0,   9,   2,  -1,   9,   9,   9,   9,   3,   2,  -5,   1,\n",
       "        -1,  -1,  -1,   2,  -1,  -1,   6,   6,   6,   6,   6,  -3,  -1,\n",
       "         6,   6,   6,   6,   6,  -3,  -1,   6,   6,   6,   6,   6,  -3,\n",
       "        -2,   6,   6,   6,  -1,  -3,  -2,   1,  -2,   2,   2,   2,  -2,\n",
       "        -3,   1,  -2,   2,   2,   2,  -2,  -3,   1,  -2,   2,   2,   2,\n",
       "         2,  -3,   1,  -2,   2,   2,   2,   2,  -4,   1,  -2,   2,   2,\n",
       "         2,   2,  -3,  -3,  -5,   2,   2,   2,   2,  -3,  -3,   2,   2,\n",
       "         2,   2,  -1,  -3,   1,  -2,   2,  -5,  -1,  -2,   1,  -1,   1,\n",
       "         1], dtype=int64)"
      ]
     },
     "execution_count": 36,
     "metadata": {},
     "output_type": "execute_result"
    }
   ],
   "source": [
    "aggregationEdem2.clusterOrder-aggregationEdem2PredefFromEdem4.clusterOrder"
   ]
  },
  {
   "cell_type": "code",
   "execution_count": 37,
   "metadata": {},
   "outputs": [
    {
     "data": {
      "text/plain": [
       "array([  3,  -1,  -1,  -1,   2,   3,   0,  -9,  -9, -10, -10,  -2,   2,\n",
       "        -9,  -5,  -6,  -6,  -6,  -2,   2,  -9,  -5,  -5,  -5,  -5,  -3,\n",
       "         1,  -9,  -9,  -9,  -9,  -9,  -3,   2,  -1,  -5,  -6,  -6, -10,\n",
       "        -2,   2, -10,  -6,  -6,   2,   2,  -3,   2,  -1,  -1,  -1,   2,\n",
       "        -1,  -2,   2,  -1,   2,   2,  -1,  -1,  -3,  -1,   0,   0,  -5,\n",
       "        -1,  -1,  -3,  -1,  -1,   2,  -1,  -1,  -1,  -3,  -1,   8,  -1,\n",
       "        -1,  -1,  -1,  -3,   1,  -1,  -1,  -1,  -1,   2,  -1,  -1,  -1,\n",
       "         3,  -1,  -1,  -1,  -3,  -2,   9,  -1,  -1,  -1,   3,   2,  -5,\n",
       "         3,   9,   9,   3,   3,   2,  -5,  11,   3,   1,   9,   3,   2,\n",
       "        -5,  11,   3,  -5,  11,  -5,   2,  -5,   3,   9,   3,  -5,   2,\n",
       "         2,  -5,  11,   3,  -5,  -5,  -5,   2,  -1,  -1,  11,   3,  -5,\n",
       "        -5,   2,  -1,  11,  -2,  -5,   2,   2,   2,   3,  11,   3,   3,\n",
       "         3,   3,   2,   3,  11,   3,   3,   3,   2,   2,   3,  11,   3,\n",
       "         3,   3,   3,   2,   3,  11,   3,   2,   3,   3,   2,   3,  11,\n",
       "         3,   3,   3,   3,   2,  -1,   3,  -5,   3,   3,   3,  -3,  -1,\n",
       "         3,  -5,  -5,  -5,  -5,  -3,  -1,   3,  -5,  -5,   3,   3,   2,\n",
       "        -1,  11,   2,   2,   3,   3,   2,  -1,  11,   3,   3,   3,   3,\n",
       "         2,  -1,  11,   3,   3,   2,   2,   2,  -1,  11,   3,   3,   3,\n",
       "         3,   2,  -1,  11,   3,   3,   3,   3,   2,  -1,   9,   9,   9,\n",
       "         9,   9,   2,  -1,   9,   9,   9,   9,   3,   2,  -1,   9,   0,\n",
       "         0,   0,   9,   2,  -1,   9,   9,   9,   9,   3,   2,  -5,   1,\n",
       "        -1,  -1,  -1,   2,  -1,  -1,   6,   6,   6,   6,   6,  -3,  -1,\n",
       "         6,   6,   6,   6,   6,  -3,  -1,   6,   6,   6,   6,   6,  -3,\n",
       "        -2,   6,   6,   6,  -1,  -3,  -2,   1,  -2,   2,   2,   2,  -2,\n",
       "        -3,   1,  -2,   2,   2,   2,  -2,  -3,   1,  -2,   2,   2,   2,\n",
       "         2,  -3,   1,  -2,   2,   2,   2,   2,  -4,   1,  -2,   2,   2,\n",
       "         2,   2,  -3,  -3,  -5,   2,   2,   2,   2,  -3,  -3,   2,   2,\n",
       "         2,   2,  -1,  -3,   1,  -2,   2,  -5,  -1,  -2,   1,  -1,   1,\n",
       "         1], dtype=int64)"
      ]
     },
     "execution_count": 37,
     "metadata": {},
     "output_type": "execute_result"
    }
   ],
   "source": [
    "aggregationEdem2.clusterOrder-aggregationEdem2PredefFromEdem4OrderOnly.clusterOrder"
   ]
  },
  {
   "cell_type": "code",
   "execution_count": 38,
   "metadata": {},
   "outputs": [
    {
     "data": {
      "text/plain": [
       "array([0, 0, 0, 0, 0, 0, 0, 0, 0, 0, 0, 0, 0, 0, 0, 0, 0, 0, 0, 0, 0, 0,\n",
       "       0, 0, 0, 0, 0, 0, 0, 0, 0, 0, 0, 0, 0, 0, 0, 0, 0, 0, 0, 0, 0, 0,\n",
       "       0, 0, 0, 0, 0, 0, 0, 0, 0, 0, 0, 0, 0, 0, 0, 0, 0, 0, 0, 0, 0, 0,\n",
       "       0, 0, 0, 0, 0, 0, 0, 0, 0, 0, 0, 0, 0, 0, 0, 0, 0, 0, 0, 0, 0, 0,\n",
       "       0, 0, 0, 0, 0, 0, 0, 0, 0, 0, 0, 0, 0, 0, 0, 0, 0, 0, 0, 0, 0, 0,\n",
       "       0, 0, 0, 0, 0, 0, 0, 0, 0, 0, 0, 0, 0, 0, 0, 0, 0, 0, 0, 0, 0, 0,\n",
       "       0, 0, 0, 0, 0, 0, 0, 0, 0, 0, 0, 0, 0, 0, 0, 0, 0, 0, 0, 0, 0, 0,\n",
       "       0, 0, 0, 0, 0, 0, 0, 0, 0, 0, 0, 0, 0, 0, 0, 0, 0, 0, 0, 0, 0, 0,\n",
       "       0, 0, 0, 0, 0, 0, 0, 0, 0, 0, 0, 0, 0, 0, 0, 0, 0, 0, 0, 0, 0, 0,\n",
       "       0, 0, 0, 0, 0, 0, 0, 0, 0, 0, 0, 0, 0, 0, 0, 0, 0, 0, 0, 0, 0, 0,\n",
       "       0, 0, 0, 0, 0, 0, 0, 0, 0, 0, 0, 0, 0, 0, 0, 0, 0, 0, 0, 0, 0, 0,\n",
       "       0, 0, 0, 0, 0, 0, 0, 0, 0, 0, 0, 0, 0, 0, 0, 0, 0, 0, 0, 0, 0, 0,\n",
       "       0, 0, 0, 0, 0, 0, 0, 0, 0, 0, 0, 0, 0, 0, 0, 0, 0, 0, 0, 0, 0, 0,\n",
       "       0, 0, 0, 0, 0, 0, 0, 0, 0, 0, 0, 0, 0, 0, 0, 0, 0, 0, 0, 0, 0, 0,\n",
       "       0, 0, 0, 0, 0, 0, 0, 0, 0, 0, 0, 0, 0, 0, 0, 0, 0, 0, 0, 0, 0, 0,\n",
       "       0, 0, 0, 0, 0, 0, 0, 0, 0, 0, 0, 0, 0, 0, 0, 0, 0, 0, 0, 0, 0, 0,\n",
       "       0, 0, 0, 0, 0, 0, 0, 0, 0, 0, 0, 0, 0], dtype=int64)"
      ]
     },
     "execution_count": 38,
     "metadata": {},
     "output_type": "execute_result"
    }
   ],
   "source": [
    "aggregationEdem2PredefFromEdem4.clusterOrder-aggregationEdem2PredefFromEdem4OrderOnly.clusterOrder"
   ]
  },
  {
   "cell_type": "markdown",
   "metadata": {},
   "source": [
    "# Comparing Outputs"
   ]
  },
  {
   "cell_type": "markdown",
   "metadata": {},
   "source": [
    "The first day of the e-demand time series for two regions is typical day number 10 (aggregationEdem2.clusterOrder), which is day number 194 of the original time series (aggregationEdem2.clusterCenterIndices):"
   ]
  },
  {
   "cell_type": "code",
   "execution_count": 39,
   "metadata": {},
   "outputs": [
    {
     "data": {
      "text/html": [
       "<div>\n",
       "<style scoped>\n",
       "    .dataframe tbody tr th:only-of-type {\n",
       "        vertical-align: middle;\n",
       "    }\n",
       "\n",
       "    .dataframe tbody tr th {\n",
       "        vertical-align: top;\n",
       "    }\n",
       "\n",
       "    .dataframe thead th {\n",
       "        text-align: right;\n",
       "    }\n",
       "</style>\n",
       "<table border=\"1\" class=\"dataframe\">\n",
       "  <thead>\n",
       "    <tr style=\"text-align: right;\">\n",
       "      <th></th>\n",
       "      <th>cluster_0</th>\n",
       "      <th>cluster_1</th>\n",
       "    </tr>\n",
       "  </thead>\n",
       "  <tbody>\n",
       "    <tr>\n",
       "      <th>2050-07-14 00:30:00+01:00</th>\n",
       "      <td>20.730393</td>\n",
       "      <td>25.215748</td>\n",
       "    </tr>\n",
       "    <tr>\n",
       "      <th>2050-07-14 01:30:00+01:00</th>\n",
       "      <td>19.600621</td>\n",
       "      <td>23.910520</td>\n",
       "    </tr>\n",
       "    <tr>\n",
       "      <th>2050-07-14 02:30:00+01:00</th>\n",
       "      <td>18.819825</td>\n",
       "      <td>22.567316</td>\n",
       "    </tr>\n",
       "    <tr>\n",
       "      <th>2050-07-14 03:30:00+01:00</th>\n",
       "      <td>18.457561</td>\n",
       "      <td>21.721580</td>\n",
       "    </tr>\n",
       "    <tr>\n",
       "      <th>2050-07-14 04:30:00+01:00</th>\n",
       "      <td>18.281451</td>\n",
       "      <td>21.532690</td>\n",
       "    </tr>\n",
       "    <tr>\n",
       "      <th>2050-07-14 05:30:00+01:00</th>\n",
       "      <td>18.136017</td>\n",
       "      <td>21.563124</td>\n",
       "    </tr>\n",
       "    <tr>\n",
       "      <th>2050-07-14 06:30:00+01:00</th>\n",
       "      <td>17.959781</td>\n",
       "      <td>21.365360</td>\n",
       "    </tr>\n",
       "    <tr>\n",
       "      <th>2050-07-14 07:30:00+01:00</th>\n",
       "      <td>18.094826</td>\n",
       "      <td>21.818315</td>\n",
       "    </tr>\n",
       "    <tr>\n",
       "      <th>2050-07-14 08:30:00+01:00</th>\n",
       "      <td>19.032291</td>\n",
       "      <td>23.248850</td>\n",
       "    </tr>\n",
       "    <tr>\n",
       "      <th>2050-07-14 09:30:00+01:00</th>\n",
       "      <td>20.554235</td>\n",
       "      <td>25.344906</td>\n",
       "    </tr>\n",
       "    <tr>\n",
       "      <th>2050-07-14 10:30:00+01:00</th>\n",
       "      <td>21.601270</td>\n",
       "      <td>27.024871</td>\n",
       "    </tr>\n",
       "    <tr>\n",
       "      <th>2050-07-14 11:30:00+01:00</th>\n",
       "      <td>22.698795</td>\n",
       "      <td>28.370346</td>\n",
       "    </tr>\n",
       "    <tr>\n",
       "      <th>2050-07-14 12:30:00+01:00</th>\n",
       "      <td>23.531101</td>\n",
       "      <td>29.904040</td>\n",
       "    </tr>\n",
       "    <tr>\n",
       "      <th>2050-07-14 13:30:00+01:00</th>\n",
       "      <td>23.313057</td>\n",
       "      <td>29.460084</td>\n",
       "    </tr>\n",
       "    <tr>\n",
       "      <th>2050-07-14 14:30:00+01:00</th>\n",
       "      <td>22.545268</td>\n",
       "      <td>28.651873</td>\n",
       "    </tr>\n",
       "    <tr>\n",
       "      <th>2050-07-14 15:30:00+01:00</th>\n",
       "      <td>22.124805</td>\n",
       "      <td>27.914336</td>\n",
       "    </tr>\n",
       "    <tr>\n",
       "      <th>2050-07-14 16:30:00+01:00</th>\n",
       "      <td>21.721052</td>\n",
       "      <td>27.393089</td>\n",
       "    </tr>\n",
       "    <tr>\n",
       "      <th>2050-07-14 17:30:00+01:00</th>\n",
       "      <td>21.690826</td>\n",
       "      <td>27.168315</td>\n",
       "    </tr>\n",
       "    <tr>\n",
       "      <th>2050-07-14 18:30:00+01:00</th>\n",
       "      <td>22.078012</td>\n",
       "      <td>27.583129</td>\n",
       "    </tr>\n",
       "    <tr>\n",
       "      <th>2050-07-14 19:30:00+01:00</th>\n",
       "      <td>22.829659</td>\n",
       "      <td>28.060482</td>\n",
       "    </tr>\n",
       "    <tr>\n",
       "      <th>2050-07-14 20:30:00+01:00</th>\n",
       "      <td>22.962333</td>\n",
       "      <td>27.823808</td>\n",
       "    </tr>\n",
       "    <tr>\n",
       "      <th>2050-07-14 21:30:00+01:00</th>\n",
       "      <td>22.800990</td>\n",
       "      <td>27.632151</td>\n",
       "    </tr>\n",
       "    <tr>\n",
       "      <th>2050-07-14 22:30:00+01:00</th>\n",
       "      <td>22.349797</td>\n",
       "      <td>27.800344</td>\n",
       "    </tr>\n",
       "    <tr>\n",
       "      <th>2050-07-14 23:30:00+01:00</th>\n",
       "      <td>22.549281</td>\n",
       "      <td>27.838860</td>\n",
       "    </tr>\n",
       "  </tbody>\n",
       "</table>\n",
       "</div>"
      ],
      "text/plain": [
       "                           cluster_0  cluster_1\n",
       "2050-07-14 00:30:00+01:00  20.730393  25.215748\n",
       "2050-07-14 01:30:00+01:00  19.600621  23.910520\n",
       "2050-07-14 02:30:00+01:00  18.819825  22.567316\n",
       "2050-07-14 03:30:00+01:00  18.457561  21.721580\n",
       "2050-07-14 04:30:00+01:00  18.281451  21.532690\n",
       "2050-07-14 05:30:00+01:00  18.136017  21.563124\n",
       "2050-07-14 06:30:00+01:00  17.959781  21.365360\n",
       "2050-07-14 07:30:00+01:00  18.094826  21.818315\n",
       "2050-07-14 08:30:00+01:00  19.032291  23.248850\n",
       "2050-07-14 09:30:00+01:00  20.554235  25.344906\n",
       "2050-07-14 10:30:00+01:00  21.601270  27.024871\n",
       "2050-07-14 11:30:00+01:00  22.698795  28.370346\n",
       "2050-07-14 12:30:00+01:00  23.531101  29.904040\n",
       "2050-07-14 13:30:00+01:00  23.313057  29.460084\n",
       "2050-07-14 14:30:00+01:00  22.545268  28.651873\n",
       "2050-07-14 15:30:00+01:00  22.124805  27.914336\n",
       "2050-07-14 16:30:00+01:00  21.721052  27.393089\n",
       "2050-07-14 17:30:00+01:00  21.690826  27.168315\n",
       "2050-07-14 18:30:00+01:00  22.078012  27.583129\n",
       "2050-07-14 19:30:00+01:00  22.829659  28.060482\n",
       "2050-07-14 20:30:00+01:00  22.962333  27.823808\n",
       "2050-07-14 21:30:00+01:00  22.800990  27.632151\n",
       "2050-07-14 22:30:00+01:00  22.349797  27.800344\n",
       "2050-07-14 23:30:00+01:00  22.549281  27.838860"
      ]
     },
     "execution_count": 39,
     "metadata": {},
     "output_type": "execute_result"
    }
   ],
   "source": [
    "edem2.iloc[194*24:195*24,:]"
   ]
  },
  {
   "cell_type": "markdown",
   "metadata": {},
   "source": [
    "If you compare the day of the original time series to that of the predicted time series, it stays almost the same (small deviation due to rescaling):"
   ]
  },
  {
   "cell_type": "code",
   "execution_count": 40,
   "metadata": {},
   "outputs": [
    {
     "data": {
      "text/html": [
       "<div>\n",
       "<style scoped>\n",
       "    .dataframe tbody tr th:only-of-type {\n",
       "        vertical-align: middle;\n",
       "    }\n",
       "\n",
       "    .dataframe tbody tr th {\n",
       "        vertical-align: top;\n",
       "    }\n",
       "\n",
       "    .dataframe thead th {\n",
       "        text-align: right;\n",
       "    }\n",
       "</style>\n",
       "<table border=\"1\" class=\"dataframe\">\n",
       "  <thead>\n",
       "    <tr style=\"text-align: right;\">\n",
       "      <th></th>\n",
       "      <th>cluster_0</th>\n",
       "      <th>cluster_1</th>\n",
       "    </tr>\n",
       "  </thead>\n",
       "  <tbody>\n",
       "    <tr>\n",
       "      <th>2050-01-01 00:30:00+01:00</th>\n",
       "      <td>20.738484</td>\n",
       "      <td>25.210873</td>\n",
       "    </tr>\n",
       "    <tr>\n",
       "      <th>2050-01-01 01:30:00+01:00</th>\n",
       "      <td>19.606369</td>\n",
       "      <td>23.906732</td>\n",
       "    </tr>\n",
       "    <tr>\n",
       "      <th>2050-01-01 02:30:00+01:00</th>\n",
       "      <td>18.823952</td>\n",
       "      <td>22.564648</td>\n",
       "    </tr>\n",
       "    <tr>\n",
       "      <th>2050-01-01 03:30:00+01:00</th>\n",
       "      <td>18.460937</td>\n",
       "      <td>21.719617</td>\n",
       "    </tr>\n",
       "    <tr>\n",
       "      <th>2050-01-01 04:30:00+01:00</th>\n",
       "      <td>18.284462</td>\n",
       "      <td>21.530884</td>\n",
       "    </tr>\n",
       "    <tr>\n",
       "      <th>2050-01-01 05:30:00+01:00</th>\n",
       "      <td>18.138726</td>\n",
       "      <td>21.561293</td>\n",
       "    </tr>\n",
       "    <tr>\n",
       "      <th>2050-01-01 06:30:00+01:00</th>\n",
       "      <td>17.962124</td>\n",
       "      <td>21.363694</td>\n",
       "    </tr>\n",
       "    <tr>\n",
       "      <th>2050-01-01 07:30:00+01:00</th>\n",
       "      <td>18.097449</td>\n",
       "      <td>21.816271</td>\n",
       "    </tr>\n",
       "    <tr>\n",
       "      <th>2050-01-01 08:30:00+01:00</th>\n",
       "      <td>19.036860</td>\n",
       "      <td>23.245613</td>\n",
       "    </tr>\n",
       "    <tr>\n",
       "      <th>2050-01-01 09:30:00+01:00</th>\n",
       "      <td>20.561961</td>\n",
       "      <td>25.339923</td>\n",
       "    </tr>\n",
       "    <tr>\n",
       "      <th>2050-01-01 10:30:00+01:00</th>\n",
       "      <td>21.611169</td>\n",
       "      <td>27.018488</td>\n",
       "    </tr>\n",
       "    <tr>\n",
       "      <th>2050-01-01 11:30:00+01:00</th>\n",
       "      <td>22.710971</td>\n",
       "      <td>28.362841</td>\n",
       "    </tr>\n",
       "    <tr>\n",
       "      <th>2050-01-01 12:30:00+01:00</th>\n",
       "      <td>23.545004</td>\n",
       "      <td>29.895257</td>\n",
       "    </tr>\n",
       "    <tr>\n",
       "      <th>2050-01-01 13:30:00+01:00</th>\n",
       "      <td>23.326508</td>\n",
       "      <td>29.451671</td>\n",
       "    </tr>\n",
       "    <tr>\n",
       "      <th>2050-01-01 14:30:00+01:00</th>\n",
       "      <td>22.557126</td>\n",
       "      <td>28.644133</td>\n",
       "    </tr>\n",
       "    <tr>\n",
       "      <th>2050-01-01 15:30:00+01:00</th>\n",
       "      <td>22.135790</td>\n",
       "      <td>27.907211</td>\n",
       "    </tr>\n",
       "    <tr>\n",
       "      <th>2050-01-01 16:30:00+01:00</th>\n",
       "      <td>21.731200</td>\n",
       "      <td>27.386399</td>\n",
       "    </tr>\n",
       "    <tr>\n",
       "      <th>2050-01-01 17:30:00+01:00</th>\n",
       "      <td>21.700910</td>\n",
       "      <td>27.161812</td>\n",
       "    </tr>\n",
       "    <tr>\n",
       "      <th>2050-01-01 18:30:00+01:00</th>\n",
       "      <td>22.088900</td>\n",
       "      <td>27.576281</td>\n",
       "    </tr>\n",
       "    <tr>\n",
       "      <th>2050-01-01 19:30:00+01:00</th>\n",
       "      <td>22.842106</td>\n",
       "      <td>28.053236</td>\n",
       "    </tr>\n",
       "    <tr>\n",
       "      <th>2050-01-01 20:30:00+01:00</th>\n",
       "      <td>22.975056</td>\n",
       "      <td>27.816759</td>\n",
       "    </tr>\n",
       "    <tr>\n",
       "      <th>2050-01-01 21:30:00+01:00</th>\n",
       "      <td>22.813379</td>\n",
       "      <td>27.625261</td>\n",
       "    </tr>\n",
       "    <tr>\n",
       "      <th>2050-01-01 22:30:00+01:00</th>\n",
       "      <td>22.361249</td>\n",
       "      <td>27.793314</td>\n",
       "    </tr>\n",
       "    <tr>\n",
       "      <th>2050-01-01 23:30:00+01:00</th>\n",
       "      <td>22.561147</td>\n",
       "      <td>27.831798</td>\n",
       "    </tr>\n",
       "  </tbody>\n",
       "</table>\n",
       "</div>"
      ],
      "text/plain": [
       "                           cluster_0  cluster_1\n",
       "2050-01-01 00:30:00+01:00  20.738484  25.210873\n",
       "2050-01-01 01:30:00+01:00  19.606369  23.906732\n",
       "2050-01-01 02:30:00+01:00  18.823952  22.564648\n",
       "2050-01-01 03:30:00+01:00  18.460937  21.719617\n",
       "2050-01-01 04:30:00+01:00  18.284462  21.530884\n",
       "2050-01-01 05:30:00+01:00  18.138726  21.561293\n",
       "2050-01-01 06:30:00+01:00  17.962124  21.363694\n",
       "2050-01-01 07:30:00+01:00  18.097449  21.816271\n",
       "2050-01-01 08:30:00+01:00  19.036860  23.245613\n",
       "2050-01-01 09:30:00+01:00  20.561961  25.339923\n",
       "2050-01-01 10:30:00+01:00  21.611169  27.018488\n",
       "2050-01-01 11:30:00+01:00  22.710971  28.362841\n",
       "2050-01-01 12:30:00+01:00  23.545004  29.895257\n",
       "2050-01-01 13:30:00+01:00  23.326508  29.451671\n",
       "2050-01-01 14:30:00+01:00  22.557126  28.644133\n",
       "2050-01-01 15:30:00+01:00  22.135790  27.907211\n",
       "2050-01-01 16:30:00+01:00  21.731200  27.386399\n",
       "2050-01-01 17:30:00+01:00  21.700910  27.161812\n",
       "2050-01-01 18:30:00+01:00  22.088900  27.576281\n",
       "2050-01-01 19:30:00+01:00  22.842106  28.053236\n",
       "2050-01-01 20:30:00+01:00  22.975056  27.816759\n",
       "2050-01-01 21:30:00+01:00  22.813379  27.625261\n",
       "2050-01-01 22:30:00+01:00  22.361249  27.793314\n",
       "2050-01-01 23:30:00+01:00  22.561147  27.831798"
      ]
     },
     "execution_count": 40,
     "metadata": {},
     "output_type": "execute_result"
    }
   ],
   "source": [
    "predictedPeriodsEdem2.iloc[:24,:]"
   ]
  },
  {
   "cell_type": "markdown",
   "metadata": {},
   "source": [
    "If you perdefine the cluster order and the indeces of the cluster centers which is derived from the first clustering for e-demand for two regions, you get exactly the same solution:"
   ]
  },
  {
   "cell_type": "code",
   "execution_count": 41,
   "metadata": {},
   "outputs": [
    {
     "data": {
      "text/html": [
       "<div>\n",
       "<style scoped>\n",
       "    .dataframe tbody tr th:only-of-type {\n",
       "        vertical-align: middle;\n",
       "    }\n",
       "\n",
       "    .dataframe tbody tr th {\n",
       "        vertical-align: top;\n",
       "    }\n",
       "\n",
       "    .dataframe thead th {\n",
       "        text-align: right;\n",
       "    }\n",
       "</style>\n",
       "<table border=\"1\" class=\"dataframe\">\n",
       "  <thead>\n",
       "    <tr style=\"text-align: right;\">\n",
       "      <th></th>\n",
       "      <th>cluster_0</th>\n",
       "      <th>cluster_1</th>\n",
       "    </tr>\n",
       "  </thead>\n",
       "  <tbody>\n",
       "    <tr>\n",
       "      <th>2050-01-01 00:30:00+01:00</th>\n",
       "      <td>20.738484</td>\n",
       "      <td>25.210873</td>\n",
       "    </tr>\n",
       "    <tr>\n",
       "      <th>2050-01-01 01:30:00+01:00</th>\n",
       "      <td>19.606369</td>\n",
       "      <td>23.906732</td>\n",
       "    </tr>\n",
       "    <tr>\n",
       "      <th>2050-01-01 02:30:00+01:00</th>\n",
       "      <td>18.823952</td>\n",
       "      <td>22.564648</td>\n",
       "    </tr>\n",
       "    <tr>\n",
       "      <th>2050-01-01 03:30:00+01:00</th>\n",
       "      <td>18.460937</td>\n",
       "      <td>21.719617</td>\n",
       "    </tr>\n",
       "    <tr>\n",
       "      <th>2050-01-01 04:30:00+01:00</th>\n",
       "      <td>18.284462</td>\n",
       "      <td>21.530884</td>\n",
       "    </tr>\n",
       "    <tr>\n",
       "      <th>2050-01-01 05:30:00+01:00</th>\n",
       "      <td>18.138726</td>\n",
       "      <td>21.561293</td>\n",
       "    </tr>\n",
       "    <tr>\n",
       "      <th>2050-01-01 06:30:00+01:00</th>\n",
       "      <td>17.962124</td>\n",
       "      <td>21.363694</td>\n",
       "    </tr>\n",
       "    <tr>\n",
       "      <th>2050-01-01 07:30:00+01:00</th>\n",
       "      <td>18.097449</td>\n",
       "      <td>21.816271</td>\n",
       "    </tr>\n",
       "    <tr>\n",
       "      <th>2050-01-01 08:30:00+01:00</th>\n",
       "      <td>19.036860</td>\n",
       "      <td>23.245613</td>\n",
       "    </tr>\n",
       "    <tr>\n",
       "      <th>2050-01-01 09:30:00+01:00</th>\n",
       "      <td>20.561961</td>\n",
       "      <td>25.339923</td>\n",
       "    </tr>\n",
       "    <tr>\n",
       "      <th>2050-01-01 10:30:00+01:00</th>\n",
       "      <td>21.611169</td>\n",
       "      <td>27.018488</td>\n",
       "    </tr>\n",
       "    <tr>\n",
       "      <th>2050-01-01 11:30:00+01:00</th>\n",
       "      <td>22.710971</td>\n",
       "      <td>28.362841</td>\n",
       "    </tr>\n",
       "    <tr>\n",
       "      <th>2050-01-01 12:30:00+01:00</th>\n",
       "      <td>23.545004</td>\n",
       "      <td>29.895257</td>\n",
       "    </tr>\n",
       "    <tr>\n",
       "      <th>2050-01-01 13:30:00+01:00</th>\n",
       "      <td>23.326508</td>\n",
       "      <td>29.451671</td>\n",
       "    </tr>\n",
       "    <tr>\n",
       "      <th>2050-01-01 14:30:00+01:00</th>\n",
       "      <td>22.557126</td>\n",
       "      <td>28.644133</td>\n",
       "    </tr>\n",
       "    <tr>\n",
       "      <th>2050-01-01 15:30:00+01:00</th>\n",
       "      <td>22.135790</td>\n",
       "      <td>27.907211</td>\n",
       "    </tr>\n",
       "    <tr>\n",
       "      <th>2050-01-01 16:30:00+01:00</th>\n",
       "      <td>21.731200</td>\n",
       "      <td>27.386399</td>\n",
       "    </tr>\n",
       "    <tr>\n",
       "      <th>2050-01-01 17:30:00+01:00</th>\n",
       "      <td>21.700910</td>\n",
       "      <td>27.161812</td>\n",
       "    </tr>\n",
       "    <tr>\n",
       "      <th>2050-01-01 18:30:00+01:00</th>\n",
       "      <td>22.088900</td>\n",
       "      <td>27.576281</td>\n",
       "    </tr>\n",
       "    <tr>\n",
       "      <th>2050-01-01 19:30:00+01:00</th>\n",
       "      <td>22.842106</td>\n",
       "      <td>28.053236</td>\n",
       "    </tr>\n",
       "    <tr>\n",
       "      <th>2050-01-01 20:30:00+01:00</th>\n",
       "      <td>22.975056</td>\n",
       "      <td>27.816759</td>\n",
       "    </tr>\n",
       "    <tr>\n",
       "      <th>2050-01-01 21:30:00+01:00</th>\n",
       "      <td>22.813379</td>\n",
       "      <td>27.625261</td>\n",
       "    </tr>\n",
       "    <tr>\n",
       "      <th>2050-01-01 22:30:00+01:00</th>\n",
       "      <td>22.361249</td>\n",
       "      <td>27.793314</td>\n",
       "    </tr>\n",
       "    <tr>\n",
       "      <th>2050-01-01 23:30:00+01:00</th>\n",
       "      <td>22.561147</td>\n",
       "      <td>27.831798</td>\n",
       "    </tr>\n",
       "  </tbody>\n",
       "</table>\n",
       "</div>"
      ],
      "text/plain": [
       "                           cluster_0  cluster_1\n",
       "2050-01-01 00:30:00+01:00  20.738484  25.210873\n",
       "2050-01-01 01:30:00+01:00  19.606369  23.906732\n",
       "2050-01-01 02:30:00+01:00  18.823952  22.564648\n",
       "2050-01-01 03:30:00+01:00  18.460937  21.719617\n",
       "2050-01-01 04:30:00+01:00  18.284462  21.530884\n",
       "2050-01-01 05:30:00+01:00  18.138726  21.561293\n",
       "2050-01-01 06:30:00+01:00  17.962124  21.363694\n",
       "2050-01-01 07:30:00+01:00  18.097449  21.816271\n",
       "2050-01-01 08:30:00+01:00  19.036860  23.245613\n",
       "2050-01-01 09:30:00+01:00  20.561961  25.339923\n",
       "2050-01-01 10:30:00+01:00  21.611169  27.018488\n",
       "2050-01-01 11:30:00+01:00  22.710971  28.362841\n",
       "2050-01-01 12:30:00+01:00  23.545004  29.895257\n",
       "2050-01-01 13:30:00+01:00  23.326508  29.451671\n",
       "2050-01-01 14:30:00+01:00  22.557126  28.644133\n",
       "2050-01-01 15:30:00+01:00  22.135790  27.907211\n",
       "2050-01-01 16:30:00+01:00  21.731200  27.386399\n",
       "2050-01-01 17:30:00+01:00  21.700910  27.161812\n",
       "2050-01-01 18:30:00+01:00  22.088900  27.576281\n",
       "2050-01-01 19:30:00+01:00  22.842106  28.053236\n",
       "2050-01-01 20:30:00+01:00  22.975056  27.816759\n",
       "2050-01-01 21:30:00+01:00  22.813379  27.625261\n",
       "2050-01-01 22:30:00+01:00  22.361249  27.793314\n",
       "2050-01-01 23:30:00+01:00  22.561147  27.831798"
      ]
     },
     "execution_count": 41,
     "metadata": {},
     "output_type": "execute_result"
    }
   ],
   "source": [
    "predictedPeriodsEdem2Predef.iloc[:24,:]"
   ]
  },
  {
   "cell_type": "markdown",
   "metadata": {},
   "source": [
    "If we take the cluster order from the clustering of four regions, we have larger rescaling errors due to the fact that the cluster center indeces are not the medians anymore, but we find that the tenth and eleventh day (aggregationEdem4.clusterOrder) are represented by typical day number 10. So these days have to be the same in the predicted time series of two regions with predefined cluster order from the clustering of four regions: "
   ]
  },
  {
   "cell_type": "code",
   "execution_count": 42,
   "metadata": {},
   "outputs": [
    {
     "data": {
      "text/html": [
       "<div>\n",
       "<style scoped>\n",
       "    .dataframe tbody tr th:only-of-type {\n",
       "        vertical-align: middle;\n",
       "    }\n",
       "\n",
       "    .dataframe tbody tr th {\n",
       "        vertical-align: top;\n",
       "    }\n",
       "\n",
       "    .dataframe thead th {\n",
       "        text-align: right;\n",
       "    }\n",
       "</style>\n",
       "<table border=\"1\" class=\"dataframe\">\n",
       "  <thead>\n",
       "    <tr style=\"text-align: right;\">\n",
       "      <th></th>\n",
       "      <th>cluster_0</th>\n",
       "      <th>cluster_1</th>\n",
       "    </tr>\n",
       "  </thead>\n",
       "  <tbody>\n",
       "    <tr>\n",
       "      <th>2050-01-10 00:30:00+01:00</th>\n",
       "      <td>27.140637</td>\n",
       "      <td>34.206213</td>\n",
       "    </tr>\n",
       "    <tr>\n",
       "      <th>2050-01-10 01:30:00+01:00</th>\n",
       "      <td>25.810631</td>\n",
       "      <td>32.383121</td>\n",
       "    </tr>\n",
       "    <tr>\n",
       "      <th>2050-01-10 02:30:00+01:00</th>\n",
       "      <td>24.898556</td>\n",
       "      <td>31.278270</td>\n",
       "    </tr>\n",
       "    <tr>\n",
       "      <th>2050-01-10 03:30:00+01:00</th>\n",
       "      <td>24.416034</td>\n",
       "      <td>30.594953</td>\n",
       "    </tr>\n",
       "    <tr>\n",
       "      <th>2050-01-10 04:30:00+01:00</th>\n",
       "      <td>24.445175</td>\n",
       "      <td>30.648948</td>\n",
       "    </tr>\n",
       "    <tr>\n",
       "      <th>2050-01-10 05:30:00+01:00</th>\n",
       "      <td>24.790672</td>\n",
       "      <td>31.157545</td>\n",
       "    </tr>\n",
       "    <tr>\n",
       "      <th>2050-01-10 06:30:00+01:00</th>\n",
       "      <td>25.848493</td>\n",
       "      <td>32.677837</td>\n",
       "    </tr>\n",
       "    <tr>\n",
       "      <th>2050-01-10 07:30:00+01:00</th>\n",
       "      <td>28.893882</td>\n",
       "      <td>36.671958</td>\n",
       "    </tr>\n",
       "    <tr>\n",
       "      <th>2050-01-10 08:30:00+01:00</th>\n",
       "      <td>31.688235</td>\n",
       "      <td>40.082773</td>\n",
       "    </tr>\n",
       "    <tr>\n",
       "      <th>2050-01-10 09:30:00+01:00</th>\n",
       "      <td>32.446123</td>\n",
       "      <td>41.294368</td>\n",
       "    </tr>\n",
       "    <tr>\n",
       "      <th>2050-01-10 10:30:00+01:00</th>\n",
       "      <td>32.507137</td>\n",
       "      <td>41.510488</td>\n",
       "    </tr>\n",
       "    <tr>\n",
       "      <th>2050-01-10 11:30:00+01:00</th>\n",
       "      <td>33.018856</td>\n",
       "      <td>41.906240</td>\n",
       "    </tr>\n",
       "    <tr>\n",
       "      <th>2050-01-10 12:30:00+01:00</th>\n",
       "      <td>33.254322</td>\n",
       "      <td>41.941888</td>\n",
       "    </tr>\n",
       "    <tr>\n",
       "      <th>2050-01-10 13:30:00+01:00</th>\n",
       "      <td>32.927073</td>\n",
       "      <td>41.706055</td>\n",
       "    </tr>\n",
       "    <tr>\n",
       "      <th>2050-01-10 14:30:00+01:00</th>\n",
       "      <td>32.691873</td>\n",
       "      <td>41.304880</td>\n",
       "    </tr>\n",
       "    <tr>\n",
       "      <th>2050-01-10 15:30:00+01:00</th>\n",
       "      <td>32.193640</td>\n",
       "      <td>40.848123</td>\n",
       "    </tr>\n",
       "    <tr>\n",
       "      <th>2050-01-10 16:30:00+01:00</th>\n",
       "      <td>31.969496</td>\n",
       "      <td>40.340858</td>\n",
       "    </tr>\n",
       "    <tr>\n",
       "      <th>2050-01-10 17:30:00+01:00</th>\n",
       "      <td>31.589731</td>\n",
       "      <td>39.791315</td>\n",
       "    </tr>\n",
       "    <tr>\n",
       "      <th>2050-01-10 18:30:00+01:00</th>\n",
       "      <td>32.223288</td>\n",
       "      <td>41.238164</td>\n",
       "    </tr>\n",
       "    <tr>\n",
       "      <th>2050-01-10 19:30:00+01:00</th>\n",
       "      <td>33.236401</td>\n",
       "      <td>42.259747</td>\n",
       "    </tr>\n",
       "    <tr>\n",
       "      <th>2050-01-10 20:30:00+01:00</th>\n",
       "      <td>32.840345</td>\n",
       "      <td>41.068240</td>\n",
       "    </tr>\n",
       "    <tr>\n",
       "      <th>2050-01-10 21:30:00+01:00</th>\n",
       "      <td>30.917950</td>\n",
       "      <td>38.992465</td>\n",
       "    </tr>\n",
       "    <tr>\n",
       "      <th>2050-01-10 22:30:00+01:00</th>\n",
       "      <td>29.738518</td>\n",
       "      <td>37.439422</td>\n",
       "    </tr>\n",
       "    <tr>\n",
       "      <th>2050-01-10 23:30:00+01:00</th>\n",
       "      <td>28.958870</td>\n",
       "      <td>36.490135</td>\n",
       "    </tr>\n",
       "  </tbody>\n",
       "</table>\n",
       "</div>"
      ],
      "text/plain": [
       "                           cluster_0  cluster_1\n",
       "2050-01-10 00:30:00+01:00  27.140637  34.206213\n",
       "2050-01-10 01:30:00+01:00  25.810631  32.383121\n",
       "2050-01-10 02:30:00+01:00  24.898556  31.278270\n",
       "2050-01-10 03:30:00+01:00  24.416034  30.594953\n",
       "2050-01-10 04:30:00+01:00  24.445175  30.648948\n",
       "2050-01-10 05:30:00+01:00  24.790672  31.157545\n",
       "2050-01-10 06:30:00+01:00  25.848493  32.677837\n",
       "2050-01-10 07:30:00+01:00  28.893882  36.671958\n",
       "2050-01-10 08:30:00+01:00  31.688235  40.082773\n",
       "2050-01-10 09:30:00+01:00  32.446123  41.294368\n",
       "2050-01-10 10:30:00+01:00  32.507137  41.510488\n",
       "2050-01-10 11:30:00+01:00  33.018856  41.906240\n",
       "2050-01-10 12:30:00+01:00  33.254322  41.941888\n",
       "2050-01-10 13:30:00+01:00  32.927073  41.706055\n",
       "2050-01-10 14:30:00+01:00  32.691873  41.304880\n",
       "2050-01-10 15:30:00+01:00  32.193640  40.848123\n",
       "2050-01-10 16:30:00+01:00  31.969496  40.340858\n",
       "2050-01-10 17:30:00+01:00  31.589731  39.791315\n",
       "2050-01-10 18:30:00+01:00  32.223288  41.238164\n",
       "2050-01-10 19:30:00+01:00  33.236401  42.259747\n",
       "2050-01-10 20:30:00+01:00  32.840345  41.068240\n",
       "2050-01-10 21:30:00+01:00  30.917950  38.992465\n",
       "2050-01-10 22:30:00+01:00  29.738518  37.439422\n",
       "2050-01-10 23:30:00+01:00  28.958870  36.490135"
      ]
     },
     "execution_count": 42,
     "metadata": {},
     "output_type": "execute_result"
    }
   ],
   "source": [
    "predictedPeriodsEdem2PredefFromEdem4.iloc[9*24:10*24,:]"
   ]
  },
  {
   "cell_type": "code",
   "execution_count": 43,
   "metadata": {},
   "outputs": [
    {
     "data": {
      "text/html": [
       "<div>\n",
       "<style scoped>\n",
       "    .dataframe tbody tr th:only-of-type {\n",
       "        vertical-align: middle;\n",
       "    }\n",
       "\n",
       "    .dataframe tbody tr th {\n",
       "        vertical-align: top;\n",
       "    }\n",
       "\n",
       "    .dataframe thead th {\n",
       "        text-align: right;\n",
       "    }\n",
       "</style>\n",
       "<table border=\"1\" class=\"dataframe\">\n",
       "  <thead>\n",
       "    <tr style=\"text-align: right;\">\n",
       "      <th></th>\n",
       "      <th>cluster_0</th>\n",
       "      <th>cluster_1</th>\n",
       "    </tr>\n",
       "  </thead>\n",
       "  <tbody>\n",
       "    <tr>\n",
       "      <th>2050-01-11 00:30:00+01:00</th>\n",
       "      <td>27.140637</td>\n",
       "      <td>34.206213</td>\n",
       "    </tr>\n",
       "    <tr>\n",
       "      <th>2050-01-11 01:30:00+01:00</th>\n",
       "      <td>25.810631</td>\n",
       "      <td>32.383121</td>\n",
       "    </tr>\n",
       "    <tr>\n",
       "      <th>2050-01-11 02:30:00+01:00</th>\n",
       "      <td>24.898556</td>\n",
       "      <td>31.278270</td>\n",
       "    </tr>\n",
       "    <tr>\n",
       "      <th>2050-01-11 03:30:00+01:00</th>\n",
       "      <td>24.416034</td>\n",
       "      <td>30.594953</td>\n",
       "    </tr>\n",
       "    <tr>\n",
       "      <th>2050-01-11 04:30:00+01:00</th>\n",
       "      <td>24.445175</td>\n",
       "      <td>30.648948</td>\n",
       "    </tr>\n",
       "    <tr>\n",
       "      <th>2050-01-11 05:30:00+01:00</th>\n",
       "      <td>24.790672</td>\n",
       "      <td>31.157545</td>\n",
       "    </tr>\n",
       "    <tr>\n",
       "      <th>2050-01-11 06:30:00+01:00</th>\n",
       "      <td>25.848493</td>\n",
       "      <td>32.677837</td>\n",
       "    </tr>\n",
       "    <tr>\n",
       "      <th>2050-01-11 07:30:00+01:00</th>\n",
       "      <td>28.893882</td>\n",
       "      <td>36.671958</td>\n",
       "    </tr>\n",
       "    <tr>\n",
       "      <th>2050-01-11 08:30:00+01:00</th>\n",
       "      <td>31.688235</td>\n",
       "      <td>40.082773</td>\n",
       "    </tr>\n",
       "    <tr>\n",
       "      <th>2050-01-11 09:30:00+01:00</th>\n",
       "      <td>32.446123</td>\n",
       "      <td>41.294368</td>\n",
       "    </tr>\n",
       "    <tr>\n",
       "      <th>2050-01-11 10:30:00+01:00</th>\n",
       "      <td>32.507137</td>\n",
       "      <td>41.510488</td>\n",
       "    </tr>\n",
       "    <tr>\n",
       "      <th>2050-01-11 11:30:00+01:00</th>\n",
       "      <td>33.018856</td>\n",
       "      <td>41.906240</td>\n",
       "    </tr>\n",
       "    <tr>\n",
       "      <th>2050-01-11 12:30:00+01:00</th>\n",
       "      <td>33.254322</td>\n",
       "      <td>41.941888</td>\n",
       "    </tr>\n",
       "    <tr>\n",
       "      <th>2050-01-11 13:30:00+01:00</th>\n",
       "      <td>32.927073</td>\n",
       "      <td>41.706055</td>\n",
       "    </tr>\n",
       "    <tr>\n",
       "      <th>2050-01-11 14:30:00+01:00</th>\n",
       "      <td>32.691873</td>\n",
       "      <td>41.304880</td>\n",
       "    </tr>\n",
       "    <tr>\n",
       "      <th>2050-01-11 15:30:00+01:00</th>\n",
       "      <td>32.193640</td>\n",
       "      <td>40.848123</td>\n",
       "    </tr>\n",
       "    <tr>\n",
       "      <th>2050-01-11 16:30:00+01:00</th>\n",
       "      <td>31.969496</td>\n",
       "      <td>40.340858</td>\n",
       "    </tr>\n",
       "    <tr>\n",
       "      <th>2050-01-11 17:30:00+01:00</th>\n",
       "      <td>31.589731</td>\n",
       "      <td>39.791315</td>\n",
       "    </tr>\n",
       "    <tr>\n",
       "      <th>2050-01-11 18:30:00+01:00</th>\n",
       "      <td>32.223288</td>\n",
       "      <td>41.238164</td>\n",
       "    </tr>\n",
       "    <tr>\n",
       "      <th>2050-01-11 19:30:00+01:00</th>\n",
       "      <td>33.236401</td>\n",
       "      <td>42.259747</td>\n",
       "    </tr>\n",
       "    <tr>\n",
       "      <th>2050-01-11 20:30:00+01:00</th>\n",
       "      <td>32.840345</td>\n",
       "      <td>41.068240</td>\n",
       "    </tr>\n",
       "    <tr>\n",
       "      <th>2050-01-11 21:30:00+01:00</th>\n",
       "      <td>30.917950</td>\n",
       "      <td>38.992465</td>\n",
       "    </tr>\n",
       "    <tr>\n",
       "      <th>2050-01-11 22:30:00+01:00</th>\n",
       "      <td>29.738518</td>\n",
       "      <td>37.439422</td>\n",
       "    </tr>\n",
       "    <tr>\n",
       "      <th>2050-01-11 23:30:00+01:00</th>\n",
       "      <td>28.958870</td>\n",
       "      <td>36.490135</td>\n",
       "    </tr>\n",
       "  </tbody>\n",
       "</table>\n",
       "</div>"
      ],
      "text/plain": [
       "                           cluster_0  cluster_1\n",
       "2050-01-11 00:30:00+01:00  27.140637  34.206213\n",
       "2050-01-11 01:30:00+01:00  25.810631  32.383121\n",
       "2050-01-11 02:30:00+01:00  24.898556  31.278270\n",
       "2050-01-11 03:30:00+01:00  24.416034  30.594953\n",
       "2050-01-11 04:30:00+01:00  24.445175  30.648948\n",
       "2050-01-11 05:30:00+01:00  24.790672  31.157545\n",
       "2050-01-11 06:30:00+01:00  25.848493  32.677837\n",
       "2050-01-11 07:30:00+01:00  28.893882  36.671958\n",
       "2050-01-11 08:30:00+01:00  31.688235  40.082773\n",
       "2050-01-11 09:30:00+01:00  32.446123  41.294368\n",
       "2050-01-11 10:30:00+01:00  32.507137  41.510488\n",
       "2050-01-11 11:30:00+01:00  33.018856  41.906240\n",
       "2050-01-11 12:30:00+01:00  33.254322  41.941888\n",
       "2050-01-11 13:30:00+01:00  32.927073  41.706055\n",
       "2050-01-11 14:30:00+01:00  32.691873  41.304880\n",
       "2050-01-11 15:30:00+01:00  32.193640  40.848123\n",
       "2050-01-11 16:30:00+01:00  31.969496  40.340858\n",
       "2050-01-11 17:30:00+01:00  31.589731  39.791315\n",
       "2050-01-11 18:30:00+01:00  32.223288  41.238164\n",
       "2050-01-11 19:30:00+01:00  33.236401  42.259747\n",
       "2050-01-11 20:30:00+01:00  32.840345  41.068240\n",
       "2050-01-11 21:30:00+01:00  30.917950  38.992465\n",
       "2050-01-11 22:30:00+01:00  29.738518  37.439422\n",
       "2050-01-11 23:30:00+01:00  28.958870  36.490135"
      ]
     },
     "execution_count": 43,
     "metadata": {},
     "output_type": "execute_result"
    }
   ],
   "source": [
    "predictedPeriodsEdem2PredefFromEdem4.iloc[10*24:11*24,:]"
   ]
  },
  {
   "cell_type": "markdown",
   "metadata": {},
   "source": [
    "For the cluster order only, a new median is calculated of the given candidates belonging to each cluster center which is however close to the medians of the data clustered with four regions:"
   ]
  },
  {
   "cell_type": "code",
   "execution_count": 44,
   "metadata": {},
   "outputs": [
    {
     "data": {
      "text/html": [
       "<div>\n",
       "<style scoped>\n",
       "    .dataframe tbody tr th:only-of-type {\n",
       "        vertical-align: middle;\n",
       "    }\n",
       "\n",
       "    .dataframe tbody tr th {\n",
       "        vertical-align: top;\n",
       "    }\n",
       "\n",
       "    .dataframe thead th {\n",
       "        text-align: right;\n",
       "    }\n",
       "</style>\n",
       "<table border=\"1\" class=\"dataframe\">\n",
       "  <thead>\n",
       "    <tr style=\"text-align: right;\">\n",
       "      <th></th>\n",
       "      <th>cluster_0</th>\n",
       "      <th>cluster_1</th>\n",
       "    </tr>\n",
       "  </thead>\n",
       "  <tbody>\n",
       "    <tr>\n",
       "      <th>2050-01-10 00:30:00+01:00</th>\n",
       "      <td>27.189840</td>\n",
       "      <td>34.181418</td>\n",
       "    </tr>\n",
       "    <tr>\n",
       "      <th>2050-01-10 01:30:00+01:00</th>\n",
       "      <td>25.853486</td>\n",
       "      <td>32.361372</td>\n",
       "    </tr>\n",
       "    <tr>\n",
       "      <th>2050-01-10 02:30:00+01:00</th>\n",
       "      <td>24.937059</td>\n",
       "      <td>31.258367</td>\n",
       "    </tr>\n",
       "    <tr>\n",
       "      <th>2050-01-10 03:30:00+01:00</th>\n",
       "      <td>24.452235</td>\n",
       "      <td>30.576191</td>\n",
       "    </tr>\n",
       "    <tr>\n",
       "      <th>2050-01-10 04:30:00+01:00</th>\n",
       "      <td>24.481514</td>\n",
       "      <td>30.630096</td>\n",
       "    </tr>\n",
       "    <tr>\n",
       "      <th>2050-01-10 05:30:00+01:00</th>\n",
       "      <td>24.828661</td>\n",
       "      <td>31.137843</td>\n",
       "    </tr>\n",
       "    <tr>\n",
       "      <th>2050-01-10 06:30:00+01:00</th>\n",
       "      <td>25.891529</td>\n",
       "      <td>32.655595</td>\n",
       "    </tr>\n",
       "    <tr>\n",
       "      <th>2050-01-10 07:30:00+01:00</th>\n",
       "      <td>28.951452</td>\n",
       "      <td>36.643042</td>\n",
       "    </tr>\n",
       "    <tr>\n",
       "      <th>2050-01-10 08:30:00+01:00</th>\n",
       "      <td>31.759141</td>\n",
       "      <td>40.048158</td>\n",
       "    </tr>\n",
       "    <tr>\n",
       "      <th>2050-01-10 09:30:00+01:00</th>\n",
       "      <td>32.520646</td>\n",
       "      <td>41.257729</td>\n",
       "    </tr>\n",
       "    <tr>\n",
       "      <th>2050-01-10 10:30:00+01:00</th>\n",
       "      <td>32.581951</td>\n",
       "      <td>41.473488</td>\n",
       "    </tr>\n",
       "    <tr>\n",
       "      <th>2050-01-10 11:30:00+01:00</th>\n",
       "      <td>33.096112</td>\n",
       "      <td>41.868579</td>\n",
       "    </tr>\n",
       "    <tr>\n",
       "      <th>2050-01-10 12:30:00+01:00</th>\n",
       "      <td>33.332702</td>\n",
       "      <td>41.904167</td>\n",
       "    </tr>\n",
       "    <tr>\n",
       "      <th>2050-01-10 13:30:00+01:00</th>\n",
       "      <td>33.003891</td>\n",
       "      <td>41.668728</td>\n",
       "    </tr>\n",
       "    <tr>\n",
       "      <th>2050-01-10 14:30:00+01:00</th>\n",
       "      <td>32.767568</td>\n",
       "      <td>41.268223</td>\n",
       "    </tr>\n",
       "    <tr>\n",
       "      <th>2050-01-10 15:30:00+01:00</th>\n",
       "      <td>32.266958</td>\n",
       "      <td>40.812229</td>\n",
       "    </tr>\n",
       "    <tr>\n",
       "      <th>2050-01-10 16:30:00+01:00</th>\n",
       "      <td>32.041744</td>\n",
       "      <td>40.305813</td>\n",
       "    </tr>\n",
       "    <tr>\n",
       "      <th>2050-01-10 17:30:00+01:00</th>\n",
       "      <td>31.660166</td>\n",
       "      <td>39.757188</td>\n",
       "    </tr>\n",
       "    <tr>\n",
       "      <th>2050-01-10 18:30:00+01:00</th>\n",
       "      <td>32.296747</td>\n",
       "      <td>41.201619</td>\n",
       "    </tr>\n",
       "    <tr>\n",
       "      <th>2050-01-10 19:30:00+01:00</th>\n",
       "      <td>33.314695</td>\n",
       "      <td>42.221495</td>\n",
       "    </tr>\n",
       "    <tr>\n",
       "      <th>2050-01-10 20:30:00+01:00</th>\n",
       "      <td>32.916749</td>\n",
       "      <td>41.031979</td>\n",
       "    </tr>\n",
       "    <tr>\n",
       "      <th>2050-01-10 21:30:00+01:00</th>\n",
       "      <td>30.985180</td>\n",
       "      <td>38.959673</td>\n",
       "    </tr>\n",
       "    <tr>\n",
       "      <th>2050-01-10 22:30:00+01:00</th>\n",
       "      <td>29.800119</td>\n",
       "      <td>37.409225</td>\n",
       "    </tr>\n",
       "    <tr>\n",
       "      <th>2050-01-10 23:30:00+01:00</th>\n",
       "      <td>29.016750</td>\n",
       "      <td>36.461523</td>\n",
       "    </tr>\n",
       "  </tbody>\n",
       "</table>\n",
       "</div>"
      ],
      "text/plain": [
       "                           cluster_0  cluster_1\n",
       "2050-01-10 00:30:00+01:00  27.189840  34.181418\n",
       "2050-01-10 01:30:00+01:00  25.853486  32.361372\n",
       "2050-01-10 02:30:00+01:00  24.937059  31.258367\n",
       "2050-01-10 03:30:00+01:00  24.452235  30.576191\n",
       "2050-01-10 04:30:00+01:00  24.481514  30.630096\n",
       "2050-01-10 05:30:00+01:00  24.828661  31.137843\n",
       "2050-01-10 06:30:00+01:00  25.891529  32.655595\n",
       "2050-01-10 07:30:00+01:00  28.951452  36.643042\n",
       "2050-01-10 08:30:00+01:00  31.759141  40.048158\n",
       "2050-01-10 09:30:00+01:00  32.520646  41.257729\n",
       "2050-01-10 10:30:00+01:00  32.581951  41.473488\n",
       "2050-01-10 11:30:00+01:00  33.096112  41.868579\n",
       "2050-01-10 12:30:00+01:00  33.332702  41.904167\n",
       "2050-01-10 13:30:00+01:00  33.003891  41.668728\n",
       "2050-01-10 14:30:00+01:00  32.767568  41.268223\n",
       "2050-01-10 15:30:00+01:00  32.266958  40.812229\n",
       "2050-01-10 16:30:00+01:00  32.041744  40.305813\n",
       "2050-01-10 17:30:00+01:00  31.660166  39.757188\n",
       "2050-01-10 18:30:00+01:00  32.296747  41.201619\n",
       "2050-01-10 19:30:00+01:00  33.314695  42.221495\n",
       "2050-01-10 20:30:00+01:00  32.916749  41.031979\n",
       "2050-01-10 21:30:00+01:00  30.985180  38.959673\n",
       "2050-01-10 22:30:00+01:00  29.800119  37.409225\n",
       "2050-01-10 23:30:00+01:00  29.016750  36.461523"
      ]
     },
     "execution_count": 44,
     "metadata": {},
     "output_type": "execute_result"
    }
   ],
   "source": [
    "predictedPeriodsEdem2PredefFromEdem4OrderOnly.iloc[9*24:10*24,:]"
   ]
  },
  {
   "cell_type": "code",
   "execution_count": 45,
   "metadata": {},
   "outputs": [
    {
     "data": {
      "text/html": [
       "<div>\n",
       "<style scoped>\n",
       "    .dataframe tbody tr th:only-of-type {\n",
       "        vertical-align: middle;\n",
       "    }\n",
       "\n",
       "    .dataframe tbody tr th {\n",
       "        vertical-align: top;\n",
       "    }\n",
       "\n",
       "    .dataframe thead th {\n",
       "        text-align: right;\n",
       "    }\n",
       "</style>\n",
       "<table border=\"1\" class=\"dataframe\">\n",
       "  <thead>\n",
       "    <tr style=\"text-align: right;\">\n",
       "      <th></th>\n",
       "      <th>cluster_0</th>\n",
       "      <th>cluster_1</th>\n",
       "    </tr>\n",
       "  </thead>\n",
       "  <tbody>\n",
       "    <tr>\n",
       "      <th>2050-01-11 00:30:00+01:00</th>\n",
       "      <td>27.189840</td>\n",
       "      <td>34.181418</td>\n",
       "    </tr>\n",
       "    <tr>\n",
       "      <th>2050-01-11 01:30:00+01:00</th>\n",
       "      <td>25.853486</td>\n",
       "      <td>32.361372</td>\n",
       "    </tr>\n",
       "    <tr>\n",
       "      <th>2050-01-11 02:30:00+01:00</th>\n",
       "      <td>24.937059</td>\n",
       "      <td>31.258367</td>\n",
       "    </tr>\n",
       "    <tr>\n",
       "      <th>2050-01-11 03:30:00+01:00</th>\n",
       "      <td>24.452235</td>\n",
       "      <td>30.576191</td>\n",
       "    </tr>\n",
       "    <tr>\n",
       "      <th>2050-01-11 04:30:00+01:00</th>\n",
       "      <td>24.481514</td>\n",
       "      <td>30.630096</td>\n",
       "    </tr>\n",
       "    <tr>\n",
       "      <th>2050-01-11 05:30:00+01:00</th>\n",
       "      <td>24.828661</td>\n",
       "      <td>31.137843</td>\n",
       "    </tr>\n",
       "    <tr>\n",
       "      <th>2050-01-11 06:30:00+01:00</th>\n",
       "      <td>25.891529</td>\n",
       "      <td>32.655595</td>\n",
       "    </tr>\n",
       "    <tr>\n",
       "      <th>2050-01-11 07:30:00+01:00</th>\n",
       "      <td>28.951452</td>\n",
       "      <td>36.643042</td>\n",
       "    </tr>\n",
       "    <tr>\n",
       "      <th>2050-01-11 08:30:00+01:00</th>\n",
       "      <td>31.759141</td>\n",
       "      <td>40.048158</td>\n",
       "    </tr>\n",
       "    <tr>\n",
       "      <th>2050-01-11 09:30:00+01:00</th>\n",
       "      <td>32.520646</td>\n",
       "      <td>41.257729</td>\n",
       "    </tr>\n",
       "    <tr>\n",
       "      <th>2050-01-11 10:30:00+01:00</th>\n",
       "      <td>32.581951</td>\n",
       "      <td>41.473488</td>\n",
       "    </tr>\n",
       "    <tr>\n",
       "      <th>2050-01-11 11:30:00+01:00</th>\n",
       "      <td>33.096112</td>\n",
       "      <td>41.868579</td>\n",
       "    </tr>\n",
       "    <tr>\n",
       "      <th>2050-01-11 12:30:00+01:00</th>\n",
       "      <td>33.332702</td>\n",
       "      <td>41.904167</td>\n",
       "    </tr>\n",
       "    <tr>\n",
       "      <th>2050-01-11 13:30:00+01:00</th>\n",
       "      <td>33.003891</td>\n",
       "      <td>41.668728</td>\n",
       "    </tr>\n",
       "    <tr>\n",
       "      <th>2050-01-11 14:30:00+01:00</th>\n",
       "      <td>32.767568</td>\n",
       "      <td>41.268223</td>\n",
       "    </tr>\n",
       "    <tr>\n",
       "      <th>2050-01-11 15:30:00+01:00</th>\n",
       "      <td>32.266958</td>\n",
       "      <td>40.812229</td>\n",
       "    </tr>\n",
       "    <tr>\n",
       "      <th>2050-01-11 16:30:00+01:00</th>\n",
       "      <td>32.041744</td>\n",
       "      <td>40.305813</td>\n",
       "    </tr>\n",
       "    <tr>\n",
       "      <th>2050-01-11 17:30:00+01:00</th>\n",
       "      <td>31.660166</td>\n",
       "      <td>39.757188</td>\n",
       "    </tr>\n",
       "    <tr>\n",
       "      <th>2050-01-11 18:30:00+01:00</th>\n",
       "      <td>32.296747</td>\n",
       "      <td>41.201619</td>\n",
       "    </tr>\n",
       "    <tr>\n",
       "      <th>2050-01-11 19:30:00+01:00</th>\n",
       "      <td>33.314695</td>\n",
       "      <td>42.221495</td>\n",
       "    </tr>\n",
       "    <tr>\n",
       "      <th>2050-01-11 20:30:00+01:00</th>\n",
       "      <td>32.916749</td>\n",
       "      <td>41.031979</td>\n",
       "    </tr>\n",
       "    <tr>\n",
       "      <th>2050-01-11 21:30:00+01:00</th>\n",
       "      <td>30.985180</td>\n",
       "      <td>38.959673</td>\n",
       "    </tr>\n",
       "    <tr>\n",
       "      <th>2050-01-11 22:30:00+01:00</th>\n",
       "      <td>29.800119</td>\n",
       "      <td>37.409225</td>\n",
       "    </tr>\n",
       "    <tr>\n",
       "      <th>2050-01-11 23:30:00+01:00</th>\n",
       "      <td>29.016750</td>\n",
       "      <td>36.461523</td>\n",
       "    </tr>\n",
       "  </tbody>\n",
       "</table>\n",
       "</div>"
      ],
      "text/plain": [
       "                           cluster_0  cluster_1\n",
       "2050-01-11 00:30:00+01:00  27.189840  34.181418\n",
       "2050-01-11 01:30:00+01:00  25.853486  32.361372\n",
       "2050-01-11 02:30:00+01:00  24.937059  31.258367\n",
       "2050-01-11 03:30:00+01:00  24.452235  30.576191\n",
       "2050-01-11 04:30:00+01:00  24.481514  30.630096\n",
       "2050-01-11 05:30:00+01:00  24.828661  31.137843\n",
       "2050-01-11 06:30:00+01:00  25.891529  32.655595\n",
       "2050-01-11 07:30:00+01:00  28.951452  36.643042\n",
       "2050-01-11 08:30:00+01:00  31.759141  40.048158\n",
       "2050-01-11 09:30:00+01:00  32.520646  41.257729\n",
       "2050-01-11 10:30:00+01:00  32.581951  41.473488\n",
       "2050-01-11 11:30:00+01:00  33.096112  41.868579\n",
       "2050-01-11 12:30:00+01:00  33.332702  41.904167\n",
       "2050-01-11 13:30:00+01:00  33.003891  41.668728\n",
       "2050-01-11 14:30:00+01:00  32.767568  41.268223\n",
       "2050-01-11 15:30:00+01:00  32.266958  40.812229\n",
       "2050-01-11 16:30:00+01:00  32.041744  40.305813\n",
       "2050-01-11 17:30:00+01:00  31.660166  39.757188\n",
       "2050-01-11 18:30:00+01:00  32.296747  41.201619\n",
       "2050-01-11 19:30:00+01:00  33.314695  42.221495\n",
       "2050-01-11 20:30:00+01:00  32.916749  41.031979\n",
       "2050-01-11 21:30:00+01:00  30.985180  38.959673\n",
       "2050-01-11 22:30:00+01:00  29.800119  37.409225\n",
       "2050-01-11 23:30:00+01:00  29.016750  36.461523"
      ]
     },
     "execution_count": 45,
     "metadata": {},
     "output_type": "execute_result"
    }
   ],
   "source": [
    "predictedPeriodsEdem2PredefFromEdem4OrderOnly.iloc[10*24:11*24,:]"
   ]
  },
  {
   "cell_type": "code",
   "execution_count": 46,
   "metadata": {},
   "outputs": [
    {
     "data": {
      "text/plain": [
       "[184, 79, 322, 19, 348, 64, 158, 250, 198, 20, 37, 110]"
      ]
     },
     "execution_count": 46,
     "metadata": {},
     "output_type": "execute_result"
    }
   ],
   "source": [
    "aggregationEdem4.clusterCenterIndices"
   ]
  },
  {
   "cell_type": "code",
   "execution_count": 47,
   "metadata": {},
   "outputs": [
    {
     "data": {
      "text/plain": [
       "[184, 79, 322, 19, 348, 64, 158, 250, 198, 20, 37, 110]"
      ]
     },
     "execution_count": 47,
     "metadata": {},
     "output_type": "execute_result"
    }
   ],
   "source": [
    "aggregationEdem2PredefFromEdem4.clusterCenterIndices"
   ]
  },
  {
   "cell_type": "code",
   "execution_count": 48,
   "metadata": {},
   "outputs": [
    {
     "data": {
      "text/plain": [
       "[184, 77, 324, 19, 348, 64, 221, 236, 198, 20, 37, 110]"
      ]
     },
     "execution_count": 48,
     "metadata": {},
     "output_type": "execute_result"
    }
   ],
   "source": [
    "aggregationEdem2PredefFromEdem4OrderOnly.clusterCenterIndices"
   ]
  },
  {
   "cell_type": "code",
   "execution_count": null,
   "metadata": {},
   "outputs": [],
   "source": []
  }
 ],
 "metadata": {
  "kernelspec": {
   "display_name": "Python 3",
   "language": "python",
   "name": "python3"
  },
  "language_info": {
   "codemirror_mode": {
    "name": "ipython",
    "version": 3
   },
   "file_extension": ".py",
   "mimetype": "text/x-python",
   "name": "python",
   "nbconvert_exporter": "python",
   "pygments_lexer": "ipython3",
   "version": "3.6.5"
  }
 },
 "nbformat": 4,
 "nbformat_minor": 2
}
